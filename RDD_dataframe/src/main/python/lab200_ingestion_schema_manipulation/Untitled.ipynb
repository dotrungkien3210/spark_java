{
 "cells": [
  {
   "cell_type": "code",
   "execution_count": 1,
   "metadata": {},
   "outputs": [],
   "source": [
    "\"\"\"\n",
    "  CSV ingestion in a dataframe and manipulation.\n",
    "\n",
    "  @author rambabu.posa\n",
    "\"\"\"\n",
    "import os\n",
    "import logging\n",
    "from pyspark.sql import SparkSession\n",
    "#from pyspark.sql.functions import F\n",
    "from pyspark.sql import functions as F"
   ]
  },
  {
   "cell_type": "code",
   "execution_count": 2,
   "metadata": {},
   "outputs": [],
   "source": [
    "def get_absolute_file_path(path, filename):\n",
    "    # To get absolute path for a given filename\n",
    "    current_dir = os.path.dirname(__file__)\n",
    "    relative_path = \"{}{}\".format(path, filename)\n",
    "    absolute_file_path = os.path.join(current_dir, relative_path)\n",
    "    return absolute_file_path"
   ]
  },
  {
   "cell_type": "code",
   "execution_count": 3,
   "metadata": {},
   "outputs": [],
   "source": [
    "def main(spark):\n",
    "    # The processing code.\n",
    "    filename = 'Restaurants_in_Wake_County_NC.csv'\n",
    "    path = '../../../../data/'\n",
    "    absolute_file_path = get_absolute_file_path(path, filename)\n",
    "\n",
    "    # Reads a CSV file with header, called\n",
    "    # Restaurants_in_Wake_County_NC.csv,\n",
    "    # stores it in a dataframe\n",
    "    df = spark.read.csv(header=True, inferSchema=True,path=absolute_file_path)\n",
    "\n",
    "    logging.warning(\"*** Right after ingestion\")\n",
    "    df.show(5)\n",
    "    df.printSchema()\n",
    "\n",
    "    logging.warning(\"We have {} records.\".format(df.count()))\n",
    "\n",
    "    # Let's transform our dataframe\n",
    "    df =  df.withColumn(\"county\", F.lit(\"Wake\")) \\\n",
    "            .withColumnRenamed(\"HSISID\", \"datasetId\") \\\n",
    "            .withColumnRenamed(\"NAME\", \"name\") \\\n",
    "            .withColumnRenamed(\"ADDRESS1\", \"address1\") \\\n",
    "            .withColumnRenamed(\"ADDRESS2\", \"address2\") \\\n",
    "            .withColumnRenamed(\"CITY\", \"city\") \\\n",
    "            .withColumnRenamed(\"STATE\", \"state\") \\\n",
    "            .withColumnRenamed(\"POSTALCODE\", \"zip\") \\\n",
    "            .withColumnRenamed(\"PHONENUMBER\", \"tel\") \\\n",
    "            .withColumnRenamed(\"RESTAURANTOPENDATE\", \"dateStart\") \\\n",
    "            .withColumnRenamed(\"FACILITYTYPE\", \"type\") \\\n",
    "            .withColumnRenamed(\"X\", \"geoX\") \\\n",
    "            .withColumnRenamed(\"Y\", \"geoY\") \\\n",
    "            .drop(\"OBJECTID\", \"PERMITID\", \"GEOCODESTATUS\")\n",
    "\n",
    "    df = df.withColumn(\"id\",\n",
    "                       F.concat(F.col(\"state\"), F.lit(\"_\"),\n",
    "                                F.col(\"county\"), F.lit(\"_\"),\n",
    "                                F.col(\"datasetId\")))\n",
    "\n",
    "    # Shows at most 5 rows from the dataframe\n",
    "    logging.warn(\"*** Dataframe transformed\")\n",
    "    df.show(5)\n",
    "\n",
    "    # for book only\n",
    "    dfUsedForBook = df.drop(\"address2\",\"zip\",\"tel\",\"dateStart\",\"geoX\",\"geoY\",\"address1\",\"datasetId\")\n",
    "\n",
    "    dfUsedForBook.show(5, 15)\n",
    "    # end\n",
    "\n",
    "    df.printSchema()\n",
    "\n",
    "    logging.warn(\"*** Looking at partitions\")\n",
    "    partitionCount = df.rdd.getNumPartitions()\n",
    "    logging.warn(\"Partition count before repartition: {}\".format(partitionCount))\n",
    "\n",
    "    df = df.repartition(4)\n",
    "\n",
    "    logging.warn(\"Partition count after repartition: {}\".format(df.rdd.getNumPartitions()))\n"
   ]
  },
  {
   "cell_type": "code",
   "execution_count": 4,
   "metadata": {},
   "outputs": [
    {
     "ename": "NameError",
     "evalue": "name '__file__' is not defined",
     "output_type": "error",
     "traceback": [
      "\u001b[1;31m---------------------------------------------------------------------------\u001b[0m",
      "\u001b[1;31mNameError\u001b[0m                                 Traceback (most recent call last)",
      "\u001b[1;32m<ipython-input-4-5f551bda8bf2>\u001b[0m in \u001b[0;36m<module>\u001b[1;34m\u001b[0m\n\u001b[0;32m      6\u001b[0m     \u001b[1;31m# Comment this line to see full log\u001b[0m\u001b[1;33m\u001b[0m\u001b[1;33m\u001b[0m\u001b[1;33m\u001b[0m\u001b[0m\n\u001b[0;32m      7\u001b[0m     \u001b[0mspark\u001b[0m\u001b[1;33m.\u001b[0m\u001b[0msparkContext\u001b[0m\u001b[1;33m.\u001b[0m\u001b[0msetLogLevel\u001b[0m\u001b[1;33m(\u001b[0m\u001b[1;34m'warn'\u001b[0m\u001b[1;33m)\u001b[0m\u001b[1;33m\u001b[0m\u001b[1;33m\u001b[0m\u001b[0m\n\u001b[1;32m----> 8\u001b[1;33m     \u001b[0mmain\u001b[0m\u001b[1;33m(\u001b[0m\u001b[0mspark\u001b[0m\u001b[1;33m)\u001b[0m\u001b[1;33m\u001b[0m\u001b[1;33m\u001b[0m\u001b[0m\n\u001b[0m\u001b[0;32m      9\u001b[0m     \u001b[0mspark\u001b[0m\u001b[1;33m.\u001b[0m\u001b[0mstop\u001b[0m\u001b[1;33m(\u001b[0m\u001b[1;33m)\u001b[0m\u001b[1;33m\u001b[0m\u001b[1;33m\u001b[0m\u001b[0m\n",
      "\u001b[1;32m<ipython-input-3-ad001940d049>\u001b[0m in \u001b[0;36mmain\u001b[1;34m(spark)\u001b[0m\n\u001b[0;32m      3\u001b[0m     \u001b[0mfilename\u001b[0m \u001b[1;33m=\u001b[0m \u001b[1;34m'Restaurants_in_Wake_County_NC.csv'\u001b[0m\u001b[1;33m\u001b[0m\u001b[1;33m\u001b[0m\u001b[0m\n\u001b[0;32m      4\u001b[0m     \u001b[0mpath\u001b[0m \u001b[1;33m=\u001b[0m \u001b[1;34m'../../../../data/'\u001b[0m\u001b[1;33m\u001b[0m\u001b[1;33m\u001b[0m\u001b[0m\n\u001b[1;32m----> 5\u001b[1;33m     \u001b[0mabsolute_file_path\u001b[0m \u001b[1;33m=\u001b[0m \u001b[0mget_absolute_file_path\u001b[0m\u001b[1;33m(\u001b[0m\u001b[0mpath\u001b[0m\u001b[1;33m,\u001b[0m \u001b[0mfilename\u001b[0m\u001b[1;33m)\u001b[0m\u001b[1;33m\u001b[0m\u001b[1;33m\u001b[0m\u001b[0m\n\u001b[0m\u001b[0;32m      6\u001b[0m \u001b[1;33m\u001b[0m\u001b[0m\n\u001b[0;32m      7\u001b[0m     \u001b[1;31m# Reads a CSV file with header, called\u001b[0m\u001b[1;33m\u001b[0m\u001b[1;33m\u001b[0m\u001b[1;33m\u001b[0m\u001b[0m\n",
      "\u001b[1;32m<ipython-input-2-f145a83948cd>\u001b[0m in \u001b[0;36mget_absolute_file_path\u001b[1;34m(path, filename)\u001b[0m\n\u001b[0;32m      1\u001b[0m \u001b[1;32mdef\u001b[0m \u001b[0mget_absolute_file_path\u001b[0m\u001b[1;33m(\u001b[0m\u001b[0mpath\u001b[0m\u001b[1;33m,\u001b[0m \u001b[0mfilename\u001b[0m\u001b[1;33m)\u001b[0m\u001b[1;33m:\u001b[0m\u001b[1;33m\u001b[0m\u001b[1;33m\u001b[0m\u001b[0m\n\u001b[0;32m      2\u001b[0m     \u001b[1;31m# To get absolute path for a given filename\u001b[0m\u001b[1;33m\u001b[0m\u001b[1;33m\u001b[0m\u001b[1;33m\u001b[0m\u001b[0m\n\u001b[1;32m----> 3\u001b[1;33m     \u001b[0mcurrent_dir\u001b[0m \u001b[1;33m=\u001b[0m \u001b[0mos\u001b[0m\u001b[1;33m.\u001b[0m\u001b[0mpath\u001b[0m\u001b[1;33m.\u001b[0m\u001b[0mdirname\u001b[0m\u001b[1;33m(\u001b[0m\u001b[0m__file__\u001b[0m\u001b[1;33m)\u001b[0m\u001b[1;33m\u001b[0m\u001b[1;33m\u001b[0m\u001b[0m\n\u001b[0m\u001b[0;32m      4\u001b[0m     \u001b[0mrelative_path\u001b[0m \u001b[1;33m=\u001b[0m \u001b[1;34m\"{}{}\"\u001b[0m\u001b[1;33m.\u001b[0m\u001b[0mformat\u001b[0m\u001b[1;33m(\u001b[0m\u001b[0mpath\u001b[0m\u001b[1;33m,\u001b[0m \u001b[0mfilename\u001b[0m\u001b[1;33m)\u001b[0m\u001b[1;33m\u001b[0m\u001b[1;33m\u001b[0m\u001b[0m\n\u001b[0;32m      5\u001b[0m     \u001b[0mabsolute_file_path\u001b[0m \u001b[1;33m=\u001b[0m \u001b[0mos\u001b[0m\u001b[1;33m.\u001b[0m\u001b[0mpath\u001b[0m\u001b[1;33m.\u001b[0m\u001b[0mjoin\u001b[0m\u001b[1;33m(\u001b[0m\u001b[0mcurrent_dir\u001b[0m\u001b[1;33m,\u001b[0m \u001b[0mrelative_path\u001b[0m\u001b[1;33m)\u001b[0m\u001b[1;33m\u001b[0m\u001b[1;33m\u001b[0m\u001b[0m\n",
      "\u001b[1;31mNameError\u001b[0m: name '__file__' is not defined"
     ]
    }
   ],
   "source": [
    "if __name__ == '__main__':\n",
    "    # Creates a session on a local master\n",
    "    spark = SparkSession.builder.appName(\"Restaurants in Wake County, NC\") \\\n",
    "        .master(\"local[*]\").getOrCreate()\n",
    "\n",
    "    # Comment this line to see full log\n",
    "    spark.sparkContext.setLogLevel('warn')\n",
    "    main(spark)\n",
    "    spark.stop()"
   ]
  }
 ],
 "metadata": {
  "kernelspec": {
   "display_name": "Python 3",
   "language": "python",
   "name": "python3"
  },
  "language_info": {
   "codemirror_mode": {
    "name": "ipython",
    "version": 3
   },
   "file_extension": ".py",
   "mimetype": "text/x-python",
   "name": "python",
   "nbconvert_exporter": "python",
   "pygments_lexer": "ipython3",
   "version": "3.7.1"
  }
 },
 "nbformat": 4,
 "nbformat_minor": 2
}
